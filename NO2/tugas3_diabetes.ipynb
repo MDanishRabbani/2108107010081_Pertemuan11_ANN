{
 "cells": [
  {
   "cell_type": "markdown",
   "metadata": {},
   "source": [
    "Impor Library dan Baca Dataset:"
   ]
  },
  {
   "cell_type": "code",
   "execution_count": 12,
   "metadata": {},
   "outputs": [],
   "source": [
    "import numpy as np\n",
    "import matplotlib.pyplot as plt\n",
    "import pandas as pd\n",
    "\n",
    "# Mengimpor dataset\n",
    "dataset = pd.read_csv('diabetes.csv')\n",
    "X = dataset[['Age', 'Glucose']].values\n",
    "y = dataset['Outcome'].values"
   ]
  },
  {
   "cell_type": "code",
   "execution_count": 13,
   "metadata": {},
   "outputs": [
    {
     "data": {
      "text/html": [
       "<div>\n",
       "<style scoped>\n",
       "    .dataframe tbody tr th:only-of-type {\n",
       "        vertical-align: middle;\n",
       "    }\n",
       "\n",
       "    .dataframe tbody tr th {\n",
       "        vertical-align: top;\n",
       "    }\n",
       "\n",
       "    .dataframe thead th {\n",
       "        text-align: right;\n",
       "    }\n",
       "</style>\n",
       "<table border=\"1\" class=\"dataframe\">\n",
       "  <thead>\n",
       "    <tr style=\"text-align: right;\">\n",
       "      <th></th>\n",
       "      <th>Pregnancies</th>\n",
       "      <th>Glucose</th>\n",
       "      <th>BloodPressure</th>\n",
       "      <th>SkinThickness</th>\n",
       "      <th>Insulin</th>\n",
       "      <th>BMI</th>\n",
       "      <th>DiabetesPedigreeFunction</th>\n",
       "      <th>Age</th>\n",
       "      <th>Outcome</th>\n",
       "    </tr>\n",
       "  </thead>\n",
       "  <tbody>\n",
       "    <tr>\n",
       "      <th>0</th>\n",
       "      <td>6</td>\n",
       "      <td>148</td>\n",
       "      <td>72</td>\n",
       "      <td>35</td>\n",
       "      <td>0</td>\n",
       "      <td>33.6</td>\n",
       "      <td>0.627</td>\n",
       "      <td>50</td>\n",
       "      <td>1</td>\n",
       "    </tr>\n",
       "    <tr>\n",
       "      <th>1</th>\n",
       "      <td>1</td>\n",
       "      <td>85</td>\n",
       "      <td>66</td>\n",
       "      <td>29</td>\n",
       "      <td>0</td>\n",
       "      <td>26.6</td>\n",
       "      <td>0.351</td>\n",
       "      <td>31</td>\n",
       "      <td>0</td>\n",
       "    </tr>\n",
       "    <tr>\n",
       "      <th>2</th>\n",
       "      <td>8</td>\n",
       "      <td>183</td>\n",
       "      <td>64</td>\n",
       "      <td>0</td>\n",
       "      <td>0</td>\n",
       "      <td>23.3</td>\n",
       "      <td>0.672</td>\n",
       "      <td>32</td>\n",
       "      <td>1</td>\n",
       "    </tr>\n",
       "    <tr>\n",
       "      <th>3</th>\n",
       "      <td>1</td>\n",
       "      <td>89</td>\n",
       "      <td>66</td>\n",
       "      <td>23</td>\n",
       "      <td>94</td>\n",
       "      <td>28.1</td>\n",
       "      <td>0.167</td>\n",
       "      <td>21</td>\n",
       "      <td>0</td>\n",
       "    </tr>\n",
       "    <tr>\n",
       "      <th>4</th>\n",
       "      <td>0</td>\n",
       "      <td>137</td>\n",
       "      <td>40</td>\n",
       "      <td>35</td>\n",
       "      <td>168</td>\n",
       "      <td>43.1</td>\n",
       "      <td>2.288</td>\n",
       "      <td>33</td>\n",
       "      <td>1</td>\n",
       "    </tr>\n",
       "  </tbody>\n",
       "</table>\n",
       "</div>"
      ],
      "text/plain": [
       "   Pregnancies  Glucose  BloodPressure  SkinThickness  Insulin   BMI  \\\n",
       "0            6      148             72             35        0  33.6   \n",
       "1            1       85             66             29        0  26.6   \n",
       "2            8      183             64              0        0  23.3   \n",
       "3            1       89             66             23       94  28.1   \n",
       "4            0      137             40             35      168  43.1   \n",
       "\n",
       "   DiabetesPedigreeFunction  Age  Outcome  \n",
       "0                     0.627   50        1  \n",
       "1                     0.351   31        0  \n",
       "2                     0.672   32        1  \n",
       "3                     0.167   21        0  \n",
       "4                     2.288   33        1  "
      ]
     },
     "execution_count": 13,
     "metadata": {},
     "output_type": "execute_result"
    }
   ],
   "source": [
    "dataset.head()"
   ]
  },
  {
   "cell_type": "code",
   "execution_count": 14,
   "metadata": {},
   "outputs": [
    {
     "name": "stdout",
     "output_type": "stream",
     "text": [
      "Jumlah kemunculan setiap nilai dalam kolom 'Outcome':\n",
      " [0 1] \n",
      " [268, 500]\n"
     ]
    }
   ],
   "source": [
    "unique_target = np.unique(y)\n",
    "\n",
    "# Menampilkan jumlah nilai unique dalam kolom 'Outcome'\n",
    "value_counts = [np.count_nonzero(y == 1), np.count_nonzero(y == 0)]\n",
    "print(\"Jumlah kemunculan setiap nilai dalam kolom 'Outcome':\\n\", unique_target, \"\\n\", value_counts)"
   ]
  },
  {
   "cell_type": "markdown",
   "metadata": {},
   "source": [
    "Pembagian Data:"
   ]
  },
  {
   "cell_type": "code",
   "execution_count": 15,
   "metadata": {},
   "outputs": [],
   "source": [
    "# Membagi data ke test dan training set\n",
    "from sklearn.model_selection import train_test_split\n",
    "X_train, X_test, y_train, y_test = train_test_split(X, y, test_size=0.2, random_state=0)\n"
   ]
  },
  {
   "cell_type": "markdown",
   "metadata": {},
   "source": [
    "Feature Scalling:"
   ]
  },
  {
   "cell_type": "code",
   "execution_count": 16,
   "metadata": {},
   "outputs": [],
   "source": [
    "# Feature Scaling\n",
    "from sklearn.preprocessing import StandardScaler\n",
    "sc = StandardScaler()\n",
    "X_train = sc.fit_transform(X_train)\n",
    "X_test = sc.transform(X_test)"
   ]
  },
  {
   "cell_type": "markdown",
   "metadata": {},
   "source": [
    "Pelatihan Model:"
   ]
  },
  {
   "cell_type": "code",
   "execution_count": 17,
   "metadata": {},
   "outputs": [],
   "source": [
    "# Mengimpor library Keras dan turunannya\n",
    "# Sekarang menggunakan TensorFlow 2.0\n",
    "from tensorflow.keras.models import Sequential\n",
    "from tensorflow.keras.layers import Dense\n",
    "\n",
    "# Inisialisasi ANN\n",
    "MesinKlasifikasi = Sequential()\n",
    "\n",
    "# Menambah input layer dan hidden layer pertama\n",
    "MesinKlasifikasi.add(Dense(units=6, kernel_initializer='uniform', activation='relu', input_dim=2))\n",
    "# Menambah hidden layer kedua\n",
    "MesinKlasifikasi.add(Dense(units=6, kernel_initializer='uniform', activation='relu'))\n",
    "# Menambah output layer\n",
    "MesinKlasifikasi.add(Dense(units=1, kernel_initializer='uniform', activation='sigmoid'))"
   ]
  },
  {
   "cell_type": "markdown",
   "metadata": {},
   "source": [
    "Compile dan Evaluasi Model:"
   ]
  },
  {
   "cell_type": "code",
   "execution_count": 18,
   "metadata": {},
   "outputs": [
    {
     "name": "stdout",
     "output_type": "stream",
     "text": [
      "Epoch 1/100\n"
     ]
    },
    {
     "name": "stdout",
     "output_type": "stream",
     "text": [
      "62/62 [==============================] - 1s 2ms/step - loss: 0.6900 - accuracy: 0.6450\n",
      "Epoch 2/100\n",
      "62/62 [==============================] - 0s 2ms/step - loss: 0.6817 - accuracy: 0.6401\n",
      "Epoch 3/100\n",
      "62/62 [==============================] - 0s 2ms/step - loss: 0.6638 - accuracy: 0.6433\n",
      "Epoch 4/100\n",
      "62/62 [==============================] - 0s 2ms/step - loss: 0.6294 - accuracy: 0.7215\n",
      "Epoch 5/100\n",
      "62/62 [==============================] - 0s 2ms/step - loss: 0.5868 - accuracy: 0.7459\n",
      "Epoch 6/100\n",
      "62/62 [==============================] - 0s 2ms/step - loss: 0.5522 - accuracy: 0.7541\n",
      "Epoch 7/100\n",
      "62/62 [==============================] - 0s 2ms/step - loss: 0.5311 - accuracy: 0.7492\n",
      "Epoch 8/100\n",
      "62/62 [==============================] - 0s 2ms/step - loss: 0.5199 - accuracy: 0.7443\n",
      "Epoch 9/100\n",
      "62/62 [==============================] - 0s 2ms/step - loss: 0.5154 - accuracy: 0.7443\n",
      "Epoch 10/100\n",
      "62/62 [==============================] - 0s 2ms/step - loss: 0.5129 - accuracy: 0.7443\n",
      "Epoch 11/100\n",
      "62/62 [==============================] - 0s 2ms/step - loss: 0.5112 - accuracy: 0.7508\n",
      "Epoch 12/100\n",
      "62/62 [==============================] - 0s 2ms/step - loss: 0.5098 - accuracy: 0.7524\n",
      "Epoch 13/100\n",
      "62/62 [==============================] - 0s 2ms/step - loss: 0.5086 - accuracy: 0.7508\n",
      "Epoch 14/100\n",
      "62/62 [==============================] - 0s 2ms/step - loss: 0.5076 - accuracy: 0.7508\n",
      "Epoch 15/100\n",
      "62/62 [==============================] - 0s 2ms/step - loss: 0.5074 - accuracy: 0.7476\n",
      "Epoch 16/100\n",
      "62/62 [==============================] - 0s 2ms/step - loss: 0.5068 - accuracy: 0.7524\n",
      "Epoch 17/100\n",
      "62/62 [==============================] - 0s 2ms/step - loss: 0.5065 - accuracy: 0.7524\n",
      "Epoch 18/100\n",
      "62/62 [==============================] - 0s 2ms/step - loss: 0.5059 - accuracy: 0.7508\n",
      "Epoch 19/100\n",
      "62/62 [==============================] - 0s 2ms/step - loss: 0.5053 - accuracy: 0.7541\n",
      "Epoch 20/100\n",
      "62/62 [==============================] - 0s 2ms/step - loss: 0.5043 - accuracy: 0.7524\n",
      "Epoch 21/100\n",
      "62/62 [==============================] - 0s 3ms/step - loss: 0.5038 - accuracy: 0.7492\n",
      "Epoch 22/100\n",
      "62/62 [==============================] - 0s 2ms/step - loss: 0.5034 - accuracy: 0.7524\n",
      "Epoch 23/100\n",
      "62/62 [==============================] - 0s 2ms/step - loss: 0.5031 - accuracy: 0.7557\n",
      "Epoch 24/100\n",
      "62/62 [==============================] - 0s 2ms/step - loss: 0.5025 - accuracy: 0.7541\n",
      "Epoch 25/100\n",
      "62/62 [==============================] - 0s 2ms/step - loss: 0.5021 - accuracy: 0.7557\n",
      "Epoch 26/100\n",
      "62/62 [==============================] - 0s 2ms/step - loss: 0.5015 - accuracy: 0.7524\n",
      "Epoch 27/100\n",
      "62/62 [==============================] - 0s 2ms/step - loss: 0.5010 - accuracy: 0.7573\n",
      "Epoch 28/100\n",
      "62/62 [==============================] - 0s 2ms/step - loss: 0.5010 - accuracy: 0.7573\n",
      "Epoch 29/100\n",
      "62/62 [==============================] - 0s 2ms/step - loss: 0.5010 - accuracy: 0.7557\n",
      "Epoch 30/100\n",
      "62/62 [==============================] - 0s 2ms/step - loss: 0.5008 - accuracy: 0.7524\n",
      "Epoch 31/100\n",
      "62/62 [==============================] - 0s 2ms/step - loss: 0.5005 - accuracy: 0.7541\n",
      "Epoch 32/100\n",
      "62/62 [==============================] - 0s 2ms/step - loss: 0.5002 - accuracy: 0.7524\n",
      "Epoch 33/100\n",
      "62/62 [==============================] - 0s 2ms/step - loss: 0.4999 - accuracy: 0.7557\n",
      "Epoch 34/100\n",
      "62/62 [==============================] - 0s 2ms/step - loss: 0.4998 - accuracy: 0.7573\n",
      "Epoch 35/100\n",
      "62/62 [==============================] - 0s 2ms/step - loss: 0.4999 - accuracy: 0.7492\n",
      "Epoch 36/100\n",
      "62/62 [==============================] - 0s 2ms/step - loss: 0.4997 - accuracy: 0.7573\n",
      "Epoch 37/100\n",
      "62/62 [==============================] - 0s 2ms/step - loss: 0.4989 - accuracy: 0.7541\n",
      "Epoch 38/100\n",
      "62/62 [==============================] - 0s 2ms/step - loss: 0.4990 - accuracy: 0.7541\n",
      "Epoch 39/100\n",
      "62/62 [==============================] - 0s 2ms/step - loss: 0.4991 - accuracy: 0.7541\n",
      "Epoch 40/100\n",
      "62/62 [==============================] - 0s 2ms/step - loss: 0.4991 - accuracy: 0.7524\n",
      "Epoch 41/100\n",
      "62/62 [==============================] - 0s 2ms/step - loss: 0.4991 - accuracy: 0.7541\n",
      "Epoch 42/100\n",
      "62/62 [==============================] - 0s 2ms/step - loss: 0.4990 - accuracy: 0.7524\n",
      "Epoch 43/100\n",
      "62/62 [==============================] - 0s 2ms/step - loss: 0.4987 - accuracy: 0.7541\n",
      "Epoch 44/100\n",
      "62/62 [==============================] - 0s 2ms/step - loss: 0.4981 - accuracy: 0.7557\n",
      "Epoch 45/100\n",
      "62/62 [==============================] - 0s 2ms/step - loss: 0.4982 - accuracy: 0.7524\n",
      "Epoch 46/100\n",
      "62/62 [==============================] - 0s 2ms/step - loss: 0.4977 - accuracy: 0.7524\n",
      "Epoch 47/100\n",
      "62/62 [==============================] - 0s 2ms/step - loss: 0.4981 - accuracy: 0.7541\n",
      "Epoch 48/100\n",
      "62/62 [==============================] - 0s 2ms/step - loss: 0.4971 - accuracy: 0.7557\n",
      "Epoch 49/100\n",
      "62/62 [==============================] - 0s 2ms/step - loss: 0.4975 - accuracy: 0.7573\n",
      "Epoch 50/100\n",
      "62/62 [==============================] - 0s 2ms/step - loss: 0.4969 - accuracy: 0.7541\n",
      "Epoch 51/100\n",
      "62/62 [==============================] - 0s 2ms/step - loss: 0.4972 - accuracy: 0.7557\n",
      "Epoch 52/100\n",
      "62/62 [==============================] - 0s 2ms/step - loss: 0.4975 - accuracy: 0.7573\n",
      "Epoch 53/100\n",
      "62/62 [==============================] - 0s 2ms/step - loss: 0.4968 - accuracy: 0.7590\n",
      "Epoch 54/100\n",
      "62/62 [==============================] - 0s 2ms/step - loss: 0.4964 - accuracy: 0.7557\n",
      "Epoch 55/100\n",
      "62/62 [==============================] - 0s 1ms/step - loss: 0.4963 - accuracy: 0.7557\n",
      "Epoch 56/100\n",
      "62/62 [==============================] - 0s 2ms/step - loss: 0.4960 - accuracy: 0.7590\n",
      "Epoch 57/100\n",
      "62/62 [==============================] - 0s 1ms/step - loss: 0.4962 - accuracy: 0.7573\n",
      "Epoch 58/100\n",
      "62/62 [==============================] - 0s 1ms/step - loss: 0.4963 - accuracy: 0.7524\n",
      "Epoch 59/100\n",
      "62/62 [==============================] - 0s 1ms/step - loss: 0.4960 - accuracy: 0.7557\n",
      "Epoch 60/100\n",
      "62/62 [==============================] - 0s 1ms/step - loss: 0.4963 - accuracy: 0.7541\n",
      "Epoch 61/100\n",
      "62/62 [==============================] - 0s 1ms/step - loss: 0.4960 - accuracy: 0.7541\n",
      "Epoch 62/100\n",
      "62/62 [==============================] - 0s 1ms/step - loss: 0.4963 - accuracy: 0.7557\n",
      "Epoch 63/100\n",
      "62/62 [==============================] - 0s 1ms/step - loss: 0.4960 - accuracy: 0.7590\n",
      "Epoch 64/100\n",
      "62/62 [==============================] - 0s 1ms/step - loss: 0.4958 - accuracy: 0.7557\n",
      "Epoch 65/100\n",
      "62/62 [==============================] - 0s 1ms/step - loss: 0.4952 - accuracy: 0.7557\n",
      "Epoch 66/100\n",
      "62/62 [==============================] - 0s 1ms/step - loss: 0.4949 - accuracy: 0.7557\n",
      "Epoch 67/100\n",
      "62/62 [==============================] - 0s 1ms/step - loss: 0.4952 - accuracy: 0.7606\n",
      "Epoch 68/100\n",
      "62/62 [==============================] - 0s 1ms/step - loss: 0.4954 - accuracy: 0.7606\n",
      "Epoch 69/100\n",
      "62/62 [==============================] - 0s 2ms/step - loss: 0.4955 - accuracy: 0.7590\n",
      "Epoch 70/100\n",
      "62/62 [==============================] - 0s 1ms/step - loss: 0.4951 - accuracy: 0.7557\n",
      "Epoch 71/100\n",
      "62/62 [==============================] - 0s 1ms/step - loss: 0.4949 - accuracy: 0.7524\n",
      "Epoch 72/100\n",
      "62/62 [==============================] - 0s 1ms/step - loss: 0.4948 - accuracy: 0.7590\n",
      "Epoch 73/100\n",
      "62/62 [==============================] - 0s 1ms/step - loss: 0.4947 - accuracy: 0.7573\n",
      "Epoch 74/100\n",
      "62/62 [==============================] - 0s 1ms/step - loss: 0.4951 - accuracy: 0.7541\n",
      "Epoch 75/100\n",
      "62/62 [==============================] - 0s 1ms/step - loss: 0.4952 - accuracy: 0.7573\n",
      "Epoch 76/100\n",
      "62/62 [==============================] - 0s 1ms/step - loss: 0.4946 - accuracy: 0.7557\n",
      "Epoch 77/100\n",
      "62/62 [==============================] - 0s 1ms/step - loss: 0.4943 - accuracy: 0.7557\n",
      "Epoch 78/100\n",
      "62/62 [==============================] - 0s 1ms/step - loss: 0.4944 - accuracy: 0.7590\n",
      "Epoch 79/100\n",
      "62/62 [==============================] - 0s 1ms/step - loss: 0.4943 - accuracy: 0.7557\n",
      "Epoch 80/100\n",
      "62/62 [==============================] - 0s 1ms/step - loss: 0.4948 - accuracy: 0.7606\n",
      "Epoch 81/100\n",
      "62/62 [==============================] - 0s 1ms/step - loss: 0.4947 - accuracy: 0.7557\n",
      "Epoch 82/100\n",
      "62/62 [==============================] - 0s 1ms/step - loss: 0.4941 - accuracy: 0.7590\n",
      "Epoch 83/100\n",
      "62/62 [==============================] - 0s 1ms/step - loss: 0.4942 - accuracy: 0.7573\n",
      "Epoch 84/100\n",
      "62/62 [==============================] - 0s 1ms/step - loss: 0.4945 - accuracy: 0.7622\n",
      "Epoch 85/100\n",
      "62/62 [==============================] - 0s 1ms/step - loss: 0.4941 - accuracy: 0.7606\n",
      "Epoch 86/100\n",
      "62/62 [==============================] - 0s 1ms/step - loss: 0.4948 - accuracy: 0.7622\n",
      "Epoch 87/100\n",
      "62/62 [==============================] - 0s 1ms/step - loss: 0.4940 - accuracy: 0.7638\n",
      "Epoch 88/100\n",
      "62/62 [==============================] - 0s 2ms/step - loss: 0.4940 - accuracy: 0.7590\n",
      "Epoch 89/100\n",
      "62/62 [==============================] - 0s 1ms/step - loss: 0.4945 - accuracy: 0.7606\n",
      "Epoch 90/100\n",
      "62/62 [==============================] - 0s 1ms/step - loss: 0.4937 - accuracy: 0.7622\n",
      "Epoch 91/100\n",
      "62/62 [==============================] - 0s 1ms/step - loss: 0.4940 - accuracy: 0.7622\n",
      "Epoch 92/100\n",
      "62/62 [==============================] - 0s 1ms/step - loss: 0.4939 - accuracy: 0.7590\n",
      "Epoch 93/100\n",
      "62/62 [==============================] - 0s 1ms/step - loss: 0.4942 - accuracy: 0.7622\n",
      "Epoch 94/100\n",
      "62/62 [==============================] - 0s 1ms/step - loss: 0.4944 - accuracy: 0.7622\n",
      "Epoch 95/100\n",
      "62/62 [==============================] - 0s 1ms/step - loss: 0.4940 - accuracy: 0.7638\n",
      "Epoch 96/100\n",
      "62/62 [==============================] - 0s 1ms/step - loss: 0.4940 - accuracy: 0.7622\n",
      "Epoch 97/100\n",
      "62/62 [==============================] - 0s 1ms/step - loss: 0.4939 - accuracy: 0.7622\n",
      "Epoch 98/100\n",
      "62/62 [==============================] - 0s 1ms/step - loss: 0.4940 - accuracy: 0.7622\n",
      "Epoch 99/100\n",
      "62/62 [==============================] - 0s 1ms/step - loss: 0.4935 - accuracy: 0.7638\n",
      "Epoch 100/100\n",
      "62/62 [==============================] - 0s 1ms/step - loss: 0.4957 - accuracy: 0.7638\n"
     ]
    },
    {
     "data": {
      "text/plain": [
       "<keras.src.callbacks.History at 0x1c0e0526500>"
      ]
     },
     "execution_count": 18,
     "metadata": {},
     "output_type": "execute_result"
    }
   ],
   "source": [
    "# Menjalankan ANN\n",
    "MesinKlasifikasi.compile(optimizer='adam', loss='binary_crossentropy', metrics=['accuracy'])\n",
    "# Fitting ANN ke training set\n",
    "MesinKlasifikasi.fit(X_train, y_train, batch_size=10, epochs=100)\n"
   ]
  },
  {
   "cell_type": "code",
   "execution_count": 19,
   "metadata": {},
   "outputs": [
    {
     "name": "stdout",
     "output_type": "stream",
     "text": [
      "5/5 [==============================] - 0s 2ms/step\n"
     ]
    }
   ],
   "source": [
    "y_pred = MesinKlasifikasi.predict(X_test)\n",
    "y_pred = (y_pred > 0.5)"
   ]
  },
  {
   "cell_type": "markdown",
   "metadata": {},
   "source": [
    "Confusion Matrix:"
   ]
  },
  {
   "cell_type": "code",
   "execution_count": 20,
   "metadata": {},
   "outputs": [
    {
     "name": "stdout",
     "output_type": "stream",
     "text": [
      "[[91 16]\n",
      " [21 26]]\n"
     ]
    }
   ],
   "source": [
    "# Membuat confusion matrix\n",
    "from sklearn.metrics import confusion_matrix\n",
    "cm = confusion_matrix(y_test, y_pred)\n",
    "\n",
    "print(cm)"
   ]
  }
 ],
 "metadata": {
  "kernelspec": {
   "display_name": "Python 3",
   "language": "python",
   "name": "python3"
  },
  "language_info": {
   "codemirror_mode": {
    "name": "ipython",
    "version": 3
   },
   "file_extension": ".py",
   "mimetype": "text/x-python",
   "name": "python",
   "nbconvert_exporter": "python",
   "pygments_lexer": "ipython3",
   "version": "3.10.6"
  }
 },
 "nbformat": 4,
 "nbformat_minor": 2
}
