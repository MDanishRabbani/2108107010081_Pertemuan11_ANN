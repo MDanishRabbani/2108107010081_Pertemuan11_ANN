{
 "cells": [
  {
   "cell_type": "markdown",
   "metadata": {},
   "source": [
    "Impor Library dan Baca Dataset:"
   ]
  },
  {
   "cell_type": "code",
   "execution_count": 29,
   "metadata": {},
   "outputs": [],
   "source": [
    "import pandas as pd\n",
    "from sklearn.model_selection import train_test_split\n",
    "\n",
    "# Membaca dataset\n",
    "dataset = pd.read_csv('IceCreamData.csv')\n",
    "X = dataset['Temperature'].values\n",
    "y = dataset['Revenue'].values\n",
    "\n",
    "\n"
   ]
  },
  {
   "cell_type": "markdown",
   "metadata": {},
   "source": [
    "Pembagian Data:"
   ]
  },
  {
   "cell_type": "code",
   "execution_count": null,
   "metadata": {},
   "outputs": [],
   "source": [
    "# Membagi Data menjadi Data Latih dan Data Uji\n",
    "X_train, X_test, y_train, y_test = train_test_split(X, y, test_size=0.2, random_state=42)"
   ]
  },
  {
   "cell_type": "code",
   "execution_count": 30,
   "metadata": {},
   "outputs": [],
   "source": [
    "from sklearn.discriminant_analysis import StandardScaler\n",
    "\n",
    "# Inisialisasi dan sesuaikan skala\n",
    "scaler = StandardScaler()\n",
    "scaler.fit(X_train.reshape(-1, 1))\n",
    "scaler.fit(y_train.reshape(-1, 1))\n",
    "\n",
    "# Skala data\n",
    "X_test_scaled = scaler.transform(X_test.reshape(-1, 1))\n",
    "y_test_scaled = scaler.transform(y_test.reshape(-1, 1))\n"
   ]
  },
  {
   "cell_type": "markdown",
   "metadata": {},
   "source": [
    "Pelatihan Model:"
   ]
  },
  {
   "cell_type": "markdown",
   "metadata": {},
   "source": [
    "- Dalam tugas regresi seperti memprediksi pendapatan berdasarkan suhu, akurasi bukanlah metrik yang cocok karena akurasi biasanya digunakan dalam tugas klasifikasi di mana tujuannya adalah mengklasifikasikan input dengan benar ke dalam kategori diskrit. Dalam regresi, tujuannya adalah untuk memprediksi nilai kontinu"
   ]
  },
  {
   "cell_type": "code",
   "execution_count": 31,
   "metadata": {},
   "outputs": [
    {
     "name": "stdout",
     "output_type": "stream",
     "text": [
      "Epoch 1/100\n",
      "40/40 [==============================] - 1s 2ms/step - loss: 290242.6562 - mean_squared_error: 290242.6562\n",
      "Epoch 2/100\n",
      "40/40 [==============================] - 0s 2ms/step - loss: 257918.7031 - mean_squared_error: 257918.7031\n",
      "Epoch 3/100\n",
      "40/40 [==============================] - 0s 3ms/step - loss: 187135.4062 - mean_squared_error: 187135.4062\n",
      "Epoch 4/100\n",
      "40/40 [==============================] - 0s 2ms/step - loss: 82545.1719 - mean_squared_error: 82545.1797\n",
      "Epoch 5/100\n",
      "40/40 [==============================] - 0s 2ms/step - loss: 11798.3291 - mean_squared_error: 11798.3291\n",
      "Epoch 6/100\n",
      "40/40 [==============================] - 0s 2ms/step - loss: 825.0467 - mean_squared_error: 825.0467\n",
      "Epoch 7/100\n",
      "40/40 [==============================] - 0s 2ms/step - loss: 740.3494 - mean_squared_error: 740.3494\n",
      "Epoch 8/100\n",
      "40/40 [==============================] - 0s 2ms/step - loss: 735.5966 - mean_squared_error: 735.5966\n",
      "Epoch 9/100\n",
      "40/40 [==============================] - 0s 2ms/step - loss: 734.7344 - mean_squared_error: 734.7346\n",
      "Epoch 10/100\n",
      "40/40 [==============================] - 0s 2ms/step - loss: 736.3870 - mean_squared_error: 736.3870\n",
      "Epoch 11/100\n",
      "40/40 [==============================] - 0s 2ms/step - loss: 734.3474 - mean_squared_error: 734.3474\n",
      "Epoch 12/100\n",
      "40/40 [==============================] - 0s 2ms/step - loss: 732.4637 - mean_squared_error: 732.4637\n",
      "Epoch 13/100\n",
      "40/40 [==============================] - 0s 2ms/step - loss: 732.8633 - mean_squared_error: 732.8633\n",
      "Epoch 14/100\n",
      "40/40 [==============================] - 0s 2ms/step - loss: 730.9535 - mean_squared_error: 730.9535\n",
      "Epoch 15/100\n",
      "40/40 [==============================] - 0s 2ms/step - loss: 728.8847 - mean_squared_error: 728.8847\n",
      "Epoch 16/100\n",
      "40/40 [==============================] - 0s 2ms/step - loss: 730.1583 - mean_squared_error: 730.1583\n",
      "Epoch 17/100\n",
      "40/40 [==============================] - 0s 2ms/step - loss: 728.7249 - mean_squared_error: 728.7249\n",
      "Epoch 18/100\n",
      "40/40 [==============================] - 0s 2ms/step - loss: 729.1367 - mean_squared_error: 729.1367\n",
      "Epoch 19/100\n",
      "40/40 [==============================] - 0s 2ms/step - loss: 727.5011 - mean_squared_error: 727.5011\n",
      "Epoch 20/100\n",
      "40/40 [==============================] - 0s 2ms/step - loss: 726.5266 - mean_squared_error: 726.5266\n",
      "Epoch 21/100\n",
      "40/40 [==============================] - 0s 2ms/step - loss: 726.7183 - mean_squared_error: 726.7183\n",
      "Epoch 22/100\n",
      "40/40 [==============================] - 0s 2ms/step - loss: 728.1149 - mean_squared_error: 728.1149\n",
      "Epoch 23/100\n",
      "40/40 [==============================] - 0s 2ms/step - loss: 718.8428 - mean_squared_error: 718.8428\n",
      "Epoch 24/100\n",
      "40/40 [==============================] - 0s 2ms/step - loss: 721.9051 - mean_squared_error: 721.9051\n",
      "Epoch 25/100\n",
      "40/40 [==============================] - 0s 2ms/step - loss: 715.9077 - mean_squared_error: 715.9077\n",
      "Epoch 26/100\n",
      "40/40 [==============================] - 0s 2ms/step - loss: 718.0045 - mean_squared_error: 718.0045\n",
      "Epoch 27/100\n",
      "40/40 [==============================] - 0s 2ms/step - loss: 719.2085 - mean_squared_error: 719.2085\n",
      "Epoch 28/100\n",
      "40/40 [==============================] - 0s 2ms/step - loss: 715.0319 - mean_squared_error: 715.0319\n",
      "Epoch 29/100\n",
      "40/40 [==============================] - 0s 2ms/step - loss: 710.2308 - mean_squared_error: 710.2308\n",
      "Epoch 30/100\n",
      "40/40 [==============================] - 0s 2ms/step - loss: 709.3351 - mean_squared_error: 709.3351\n",
      "Epoch 31/100\n",
      "40/40 [==============================] - 0s 2ms/step - loss: 711.8488 - mean_squared_error: 711.8488\n",
      "Epoch 32/100\n",
      "40/40 [==============================] - 0s 2ms/step - loss: 711.2317 - mean_squared_error: 711.2317\n",
      "Epoch 33/100\n",
      "40/40 [==============================] - 0s 2ms/step - loss: 703.7615 - mean_squared_error: 703.7615\n",
      "Epoch 34/100\n",
      "40/40 [==============================] - 0s 2ms/step - loss: 705.8083 - mean_squared_error: 705.8082\n",
      "Epoch 35/100\n",
      "40/40 [==============================] - 0s 2ms/step - loss: 699.5369 - mean_squared_error: 699.5369\n",
      "Epoch 36/100\n",
      "40/40 [==============================] - 0s 2ms/step - loss: 699.2689 - mean_squared_error: 699.2689\n",
      "Epoch 37/100\n",
      "40/40 [==============================] - 0s 2ms/step - loss: 699.2496 - mean_squared_error: 699.2496\n",
      "Epoch 38/100\n",
      "40/40 [==============================] - 0s 2ms/step - loss: 697.0781 - mean_squared_error: 697.0783\n",
      "Epoch 39/100\n",
      "40/40 [==============================] - 0s 2ms/step - loss: 697.0085 - mean_squared_error: 697.0085\n",
      "Epoch 40/100\n",
      "40/40 [==============================] - 0s 2ms/step - loss: 693.4481 - mean_squared_error: 693.4481\n",
      "Epoch 41/100\n",
      "40/40 [==============================] - 0s 2ms/step - loss: 697.9191 - mean_squared_error: 697.9191\n",
      "Epoch 42/100\n",
      "40/40 [==============================] - 0s 2ms/step - loss: 693.6722 - mean_squared_error: 693.6722\n",
      "Epoch 43/100\n",
      "40/40 [==============================] - 0s 2ms/step - loss: 690.0009 - mean_squared_error: 690.0009\n",
      "Epoch 44/100\n",
      "40/40 [==============================] - 0s 2ms/step - loss: 694.1164 - mean_squared_error: 694.1164\n",
      "Epoch 45/100\n",
      "40/40 [==============================] - 0s 2ms/step - loss: 687.9142 - mean_squared_error: 687.9142\n",
      "Epoch 46/100\n",
      "40/40 [==============================] - 0s 2ms/step - loss: 683.0787 - mean_squared_error: 683.0787\n",
      "Epoch 47/100\n",
      "40/40 [==============================] - 0s 2ms/step - loss: 684.0398 - mean_squared_error: 684.0398\n",
      "Epoch 48/100\n",
      "40/40 [==============================] - 0s 2ms/step - loss: 681.9498 - mean_squared_error: 681.9498\n",
      "Epoch 49/100\n",
      "40/40 [==============================] - 0s 2ms/step - loss: 683.2079 - mean_squared_error: 683.2079\n",
      "Epoch 50/100\n",
      "40/40 [==============================] - 0s 2ms/step - loss: 680.2683 - mean_squared_error: 680.2683\n",
      "Epoch 51/100\n",
      "40/40 [==============================] - 0s 2ms/step - loss: 687.2724 - mean_squared_error: 687.2724\n",
      "Epoch 52/100\n",
      "40/40 [==============================] - 0s 2ms/step - loss: 671.8873 - mean_squared_error: 671.8873\n",
      "Epoch 53/100\n",
      "40/40 [==============================] - 0s 2ms/step - loss: 680.1278 - mean_squared_error: 680.1278\n",
      "Epoch 54/100\n",
      "40/40 [==============================] - 0s 2ms/step - loss: 672.9305 - mean_squared_error: 672.9305\n",
      "Epoch 55/100\n",
      "40/40 [==============================] - 0s 2ms/step - loss: 674.8215 - mean_squared_error: 674.8215\n",
      "Epoch 56/100\n",
      "40/40 [==============================] - 0s 2ms/step - loss: 669.3684 - mean_squared_error: 669.3684\n",
      "Epoch 57/100\n",
      "40/40 [==============================] - 0s 2ms/step - loss: 681.7438 - mean_squared_error: 681.7438\n",
      "Epoch 58/100\n",
      "40/40 [==============================] - 0s 2ms/step - loss: 665.5204 - mean_squared_error: 665.5204\n",
      "Epoch 59/100\n",
      "40/40 [==============================] - 0s 2ms/step - loss: 664.1726 - mean_squared_error: 664.1726\n",
      "Epoch 60/100\n",
      "40/40 [==============================] - 0s 2ms/step - loss: 674.8723 - mean_squared_error: 674.8723\n",
      "Epoch 61/100\n",
      "40/40 [==============================] - 0s 2ms/step - loss: 661.3992 - mean_squared_error: 661.3992\n",
      "Epoch 62/100\n",
      "40/40 [==============================] - 0s 2ms/step - loss: 673.0335 - mean_squared_error: 673.0336\n",
      "Epoch 63/100\n",
      "40/40 [==============================] - 0s 2ms/step - loss: 660.6266 - mean_squared_error: 660.6266\n",
      "Epoch 64/100\n",
      "40/40 [==============================] - 0s 2ms/step - loss: 671.6605 - mean_squared_error: 671.6605\n",
      "Epoch 65/100\n",
      "40/40 [==============================] - 0s 2ms/step - loss: 657.4918 - mean_squared_error: 657.4918\n",
      "Epoch 66/100\n",
      "40/40 [==============================] - 0s 2ms/step - loss: 660.2388 - mean_squared_error: 660.2388\n",
      "Epoch 67/100\n",
      "40/40 [==============================] - 0s 2ms/step - loss: 656.7637 - mean_squared_error: 656.7637\n",
      "Epoch 68/100\n",
      "40/40 [==============================] - 0s 2ms/step - loss: 652.5943 - mean_squared_error: 652.5943\n",
      "Epoch 69/100\n",
      "40/40 [==============================] - 0s 2ms/step - loss: 663.2021 - mean_squared_error: 663.2021\n",
      "Epoch 70/100\n",
      "40/40 [==============================] - 0s 2ms/step - loss: 659.6555 - mean_squared_error: 659.6555\n",
      "Epoch 71/100\n",
      "40/40 [==============================] - 0s 2ms/step - loss: 649.8165 - mean_squared_error: 649.8165\n",
      "Epoch 72/100\n",
      "40/40 [==============================] - 0s 2ms/step - loss: 647.4353 - mean_squared_error: 647.4353\n",
      "Epoch 73/100\n",
      "40/40 [==============================] - 0s 2ms/step - loss: 659.4039 - mean_squared_error: 659.4039\n",
      "Epoch 74/100\n",
      "40/40 [==============================] - 0s 2ms/step - loss: 648.4863 - mean_squared_error: 648.4861\n",
      "Epoch 75/100\n",
      "40/40 [==============================] - 0s 2ms/step - loss: 648.7736 - mean_squared_error: 648.7736\n",
      "Epoch 76/100\n",
      "40/40 [==============================] - 0s 2ms/step - loss: 654.5820 - mean_squared_error: 654.5820\n",
      "Epoch 77/100\n",
      "40/40 [==============================] - 0s 2ms/step - loss: 653.7416 - mean_squared_error: 653.7416\n",
      "Epoch 78/100\n",
      "40/40 [==============================] - 0s 2ms/step - loss: 648.9763 - mean_squared_error: 648.9763\n",
      "Epoch 79/100\n",
      "40/40 [==============================] - 0s 2ms/step - loss: 644.7639 - mean_squared_error: 644.7639\n",
      "Epoch 80/100\n",
      "40/40 [==============================] - 0s 2ms/step - loss: 650.6577 - mean_squared_error: 650.6577\n",
      "Epoch 81/100\n",
      "40/40 [==============================] - 0s 2ms/step - loss: 641.9951 - mean_squared_error: 641.9951\n",
      "Epoch 82/100\n",
      "40/40 [==============================] - 0s 2ms/step - loss: 638.5771 - mean_squared_error: 638.5771\n",
      "Epoch 83/100\n",
      "40/40 [==============================] - 0s 2ms/step - loss: 651.5559 - mean_squared_error: 651.5559\n",
      "Epoch 84/100\n",
      "40/40 [==============================] - 0s 2ms/step - loss: 646.0058 - mean_squared_error: 646.0058\n",
      "Epoch 85/100\n",
      "40/40 [==============================] - 0s 2ms/step - loss: 639.5334 - mean_squared_error: 639.5334\n",
      "Epoch 86/100\n",
      "40/40 [==============================] - 0s 2ms/step - loss: 645.9762 - mean_squared_error: 645.9763\n",
      "Epoch 87/100\n",
      "40/40 [==============================] - 0s 2ms/step - loss: 639.4464 - mean_squared_error: 639.4464\n",
      "Epoch 88/100\n",
      "40/40 [==============================] - 0s 2ms/step - loss: 631.8257 - mean_squared_error: 631.8257\n",
      "Epoch 89/100\n",
      "40/40 [==============================] - 0s 2ms/step - loss: 641.0894 - mean_squared_error: 641.0894\n",
      "Epoch 90/100\n",
      "40/40 [==============================] - 0s 2ms/step - loss: 639.9060 - mean_squared_error: 639.9060\n",
      "Epoch 91/100\n",
      "40/40 [==============================] - 0s 2ms/step - loss: 631.1781 - mean_squared_error: 631.1781\n",
      "Epoch 92/100\n",
      "40/40 [==============================] - 0s 2ms/step - loss: 643.0919 - mean_squared_error: 643.0919\n",
      "Epoch 93/100\n",
      "40/40 [==============================] - 0s 2ms/step - loss: 643.9125 - mean_squared_error: 643.9124\n",
      "Epoch 94/100\n",
      "40/40 [==============================] - 0s 2ms/step - loss: 639.4070 - mean_squared_error: 639.4070\n",
      "Epoch 95/100\n",
      "40/40 [==============================] - 0s 2ms/step - loss: 636.9635 - mean_squared_error: 636.9636\n",
      "Epoch 96/100\n",
      "40/40 [==============================] - 0s 2ms/step - loss: 635.6754 - mean_squared_error: 635.6754\n",
      "Epoch 97/100\n",
      "40/40 [==============================] - 0s 2ms/step - loss: 644.2439 - mean_squared_error: 644.2439\n",
      "Epoch 98/100\n",
      "40/40 [==============================] - 0s 2ms/step - loss: 629.3763 - mean_squared_error: 629.3763\n",
      "Epoch 99/100\n",
      "40/40 [==============================] - 0s 2ms/step - loss: 638.0989 - mean_squared_error: 638.0989\n",
      "Epoch 100/100\n",
      "40/40 [==============================] - 0s 2ms/step - loss: 653.8725 - mean_squared_error: 653.8725\n"
     ]
    },
    {
     "data": {
      "text/plain": [
       "<keras.src.callbacks.History at 0x1589cf547c0>"
      ]
     },
     "execution_count": 31,
     "metadata": {},
     "output_type": "execute_result"
    }
   ],
   "source": [
    "from tensorflow.keras.models import Sequential\n",
    "from tensorflow.keras.layers import Dense\n",
    "from tensorflow.keras.metrics import MeanSquaredError\n",
    "\n",
    "# Inisialisasi model\n",
    "MesinModel = Sequential()\n",
    "MesinModel.add(Dense(64, activation='relu', input_shape=(1,)))\n",
    "MesinModel.add(Dense(64, activation='relu'))\n",
    "MesinModel.add(Dense(1))  # Output layer tanpa fungsi aktivasi untuk regresi\n",
    "\n",
    "# Kompilasi model\n",
    "MesinModel.compile(optimizer='adam', loss='mean_squared_error', metrics=[MeanSquaredError()])\n",
    "\n",
    "# Pelatihan model\n",
    "MesinModel.fit(X_train, y_train, batch_size=10, epochs=100)\n"
   ]
  },
  {
   "cell_type": "code",
   "execution_count": 32,
   "metadata": {},
   "outputs": [
    {
     "name": "stdout",
     "output_type": "stream",
     "text": [
      "4/4 [==============================] - 0s 2ms/step\n",
      "Mean Absolute Error: 19.18818356885576\n",
      "Mean Squared Error: 653.2737205053053\n",
      "Root Mean Squared Error: 25.55921987278378\n"
     ]
    }
   ],
   "source": [
    "from sklearn.metrics import mean_absolute_error, mean_squared_error\n",
    "import numpy as np\n",
    "\n",
    "# Evaluasi kinerja MesinModel\n",
    "y_pred = MesinModel.predict(X_test)\n",
    "# Menghitung Mean Absolute Error (MAE)\n",
    "mae = mean_absolute_error(y_test, y_pred)\n",
    "print('Mean Absolute Error:', mae)\n",
    "\n",
    "# Menghitung Mean Squared Error (MSE)\n",
    "mse = mean_squared_error(y_test, y_pred)\n",
    "print('Mean Squared Error:', mse)\n",
    "\n",
    "# Menghitung Root Mean Squared Error (RMSE)\n",
    "rmse = np.sqrt(mse)\n",
    "print('Root Mean Squared Error:', rmse)\n"
   ]
  },
  {
   "cell_type": "code",
   "execution_count": 33,
   "metadata": {},
   "outputs": [
    {
     "name": "stdout",
     "output_type": "stream",
     "text": [
      "4/4 [==============================] - 0s 2ms/step\n"
     ]
    },
    {
     "data": {
      "image/png": "[encoded data removed]",
      "text/plain": [
       "<Figure size 640x480 with 1 Axes>"
      ]
     },
     "metadata": {},
     "output_type": "display_data"
    }
   ],
   "source": [
    "\n",
    "# Evaluasi kinerja model\n",
    "y_pred = MesinModel.predict(X_test)\n",
    "\n",
    "import matplotlib.pyplot as plt\n",
    "\n",
    "# Plot the scatter plot with the original unscaled data\n",
    "plt.scatter(X_test, y_test, color='blue', label='Data')\n",
    "plt.plot(X_test, y_pred, color='red', label='Predictions')\n",
    "plt.title('Regression Plot for Temperature and Revenue')\n",
    "plt.xlabel('Temperature')\n",
    "plt.ylabel('Revenue')\n",
    "plt.legend()\n",
    "plt.show()\n"
   ]
  }
 ],
 "metadata": {
  "kernelspec": {
   "display_name": "Python 3",
   "language": "python",
   "name": "python3"
  },
  "language_info": {
   "codemirror_mode": {
    "name": "ipython",
    "version": 3
   },
   "file_extension": ".py",
   "mimetype": "text/x-python",
   "name": "python",
   "nbconvert_exporter": "python",
   "pygments_lexer": "ipython3",
   "version": "3.10.6"
  }
 },
 "nbformat": 4,
 "nbformat_minor": 2
}
